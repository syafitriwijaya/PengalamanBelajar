{
  "nbformat": 4,
  "nbformat_minor": 0,
  "metadata": {
    "colab": {
      "name": "Denteeth.ipynb",
      "provenance": [],
      "collapsed_sections": [],
      "include_colab_link": true
    },
    "kernelspec": {
      "name": "python3",
      "display_name": "Python 3"
    },
    "language_info": {
      "name": "python"
    }
  },
  "cells": [
    {
      "cell_type": "markdown",
      "metadata": {
        "id": "view-in-github",
        "colab_type": "text"
      },
      "source": [
        "<a href=\"https://colab.research.google.com/github/syafitriwijaya/PengalamanBelajar/blob/main/Machine%20Learning/Denteeth.ipynb\" target=\"_parent\"><img src=\"https://colab.research.google.com/assets/colab-badge.svg\" alt=\"Open In Colab\"/></a>"
      ]
    },
    {
      "cell_type": "code",
      "source": [
        "import itertools\n",
        "import os\n",
        "import matplotlib.pylab as plt\n",
        "import numpy as np\n",
        "import tensorflow as tf\n",
        "import tensorflow_hub as hub\n",
        "import tensorflow.keras.callbacks as callbacks\n",
        "import tensorflow.keras.layers as layers\n",
        "import tensorflow.keras.optimizers as optim\n",
        "from tensorflow.keras.callbacks import ReduceLROnPlateau\n",
        "from tensorflow.keras.models import Sequential\n",
        "from sklearn.metrics import classification_report, confusion_matrix\n",
        "from sklearn.metrics import ConfusionMatrixDisplay\n",
        "from keras.preprocessing.image import ImageDataGenerator"
      ],
      "metadata": {
        "id": "TM3c8Nq3GAAV"
      },
      "execution_count": 1,
      "outputs": []
    },
    {
      "cell_type": "code",
      "source": [
        "module_selection = (\"mobilenet_v2_100_224\", 224)\n",
        "handle_base, pixels = module_selection\n",
        "MODULE_HANDLE =\"https://tfhub.dev/google/imagenet/{}/feature_vector/5\".format(handle_base)\n",
        "IMAGE_SIZE = (pixels, pixels)\n",
        "print(\"Using {} with input size {}\".format(MODULE_HANDLE, IMAGE_SIZE))\n",
        "\n",
        "BATCH_SIZE = 32"
      ],
      "metadata": {
        "colab": {
          "base_uri": "https://localhost:8080/"
        },
        "cellView": "code",
        "id": "eFyefprXGDtu",
        "outputId": "630796ab-2d76-46c9-d3ef-4f14329fa82b"
      },
      "execution_count": 2,
      "outputs": [
        {
          "output_type": "stream",
          "name": "stdout",
          "text": [
            "Using https://tfhub.dev/google/imagenet/mobilenet_v2_100_224/feature_vector/5 with input size (224, 224)\n"
          ]
        }
      ]
    },
    {
      "cell_type": "code",
      "source": [
        "from google.colab import drive\n",
        "drive.mount('/content/drive')"
      ],
      "metadata": {
        "colab": {
          "base_uri": "https://localhost:8080/"
        },
        "id": "0rjgZNasGNPp",
        "outputId": "4453e5d2-77ca-4d9a-ea56-ccb92c0b8b1f"
      },
      "execution_count": 3,
      "outputs": [
        {
          "output_type": "stream",
          "name": "stdout",
          "text": [
            "Mounted at /content/drive\n"
          ]
        }
      ]
    },
    {
      "cell_type": "code",
      "source": [
        "path = \"drive/MyDrive/denteeth/\"\n",
        "TRAIN_DIR = os.path.join(path, 'train')\n",
        "TEST_DIR = os.path.join(path, 'test')\n",
        "VAL_DIR = os.path.join(path, 'validation')"
      ],
      "metadata": {
        "id": "8-cZdNp3GVi0"
      },
      "execution_count": 4,
      "outputs": []
    },
    {
      "cell_type": "code",
      "source": [
        "def explore_and_visualize_dataset(path, dataset_type=\"Train\"):\n",
        "    result_dict = dict()\n",
        "    for folder in os.listdir(path):\n",
        "        len_files = len(os.listdir(os.path.join(path, folder)))\n",
        "        result_dict[folder] = len_files\n",
        "    \n",
        "    label = list(result_dict.keys())\n",
        "    values_count = list(result_dict.values())\n",
        "    print(f\"Hasil Counting {dataset_type} Dataset\")\n",
        "    print(\"-\"*70)\n",
        "    plt.title(f\"Visualisasi {dataset_type} Dataset\")\n",
        "    plt.bar(range(len(label)), values_count, tick_label=label)\n",
        "    plt.show()\n",
        "    for label, count in zip(label, values_count):\n",
        "        print(f\"{count} Gambar yang ditemukan di dalam folder {label}\")\n",
        "    print(\"-\"*70)\n"
      ],
      "metadata": {
        "id": "2IDA18zvRkNg"
      },
      "execution_count": 5,
      "outputs": []
    },
    {
      "cell_type": "code",
      "source": [
        "train_val_datagen = ImageDataGenerator(rescale=1./255,\n",
        "                                      rotation_range=35,\n",
        "                                      zoom_range=[0.5, 1.1],\n",
        "                                      width_shift_range= 0.25,\n",
        "                                      height_shift_range = 0.25,\n",
        "                                      shear_range=0.15,\n",
        "                                      horizontal_flip=True,\n",
        "                                      vertical_flip= True,\n",
        "                                      fill_mode=\"nearest\"\n",
        ")\n",
        "\n",
        "test_datagen = ImageDataGenerator(rescale=1./255)"
      ],
      "metadata": {
        "id": "A4foP0e0UTBz"
      },
      "execution_count": 6,
      "outputs": []
    },
    {
      "cell_type": "code",
      "source": [
        "train_set = train_val_datagen.flow_from_directory(\n",
        "            TRAIN_DIR,\n",
        "            class_mode=\"categorical\",\n",
        "            batch_size= BATCH_SIZE,\n",
        "            target_size=IMAGE_SIZE,\n",
        "            seed =42\n",
        ")\n",
        "\n",
        "val_set = train_val_datagen.flow_from_directory(\n",
        "            VAL_DIR,\n",
        "            class_mode=\"categorical\",\n",
        "            batch_size= BATCH_SIZE,\n",
        "            target_size=IMAGE_SIZE\n",
        ")\n",
        "test_set = test_datagen.flow_from_directory(\n",
        "            TEST_DIR,\n",
        "            class_mode=\"categorical\",\n",
        "            batch_size= 2* BATCH_SIZE,\n",
        "            target_size=  IMAGE_SIZE\n",
        ")"
      ],
      "metadata": {
        "colab": {
          "base_uri": "https://localhost:8080/"
        },
        "id": "GNVB5i_SUzH6",
        "outputId": "1d52ac97-fbee-414e-978d-2f5c68ae0638"
      },
      "execution_count": 7,
      "outputs": [
        {
          "output_type": "stream",
          "name": "stdout",
          "text": [
            "Found 40 images belonging to 2 classes.\n",
            "Found 40 images belonging to 2 classes.\n",
            "Found 280 images belonging to 2 classes.\n"
          ]
        }
      ]
    },
    {
      "cell_type": "code",
      "source": [
        "print(\"Building model with\", MODULE_HANDLE)\n",
        "model = tf.keras.Sequential([\n",
        "    hub.KerasLayer(MODULE_HANDLE, trainable=False),\n",
        "    tf.keras.layers.Dropout(rate=0.2),\n",
        "    tf.keras.layers.Dense(train_set.num_classes, activation='softmax',\n",
        "                          kernel_regularizer=tf.keras.regularizers.l2(0.0001))\n",
        "])\n",
        "model.build([None, 224, 224, 3])\n",
        "model.summary()"
      ],
      "metadata": {
        "id": "r7R7xeMzG7Xq",
        "colab": {
          "base_uri": "https://localhost:8080/"
        },
        "outputId": "d985b0fe-1276-4594-9182-b34d179d3a40"
      },
      "execution_count": 8,
      "outputs": [
        {
          "output_type": "stream",
          "name": "stdout",
          "text": [
            "Building model with https://tfhub.dev/google/imagenet/mobilenet_v2_100_224/feature_vector/5\n",
            "Model: \"sequential\"\n",
            "_________________________________________________________________\n",
            " Layer (type)                Output Shape              Param #   \n",
            "=================================================================\n",
            " keras_layer (KerasLayer)    (None, 1280)              2257984   \n",
            "                                                                 \n",
            " dropout (Dropout)           (None, 1280)              0         \n",
            "                                                                 \n",
            " dense (Dense)               (None, 2)                 2562      \n",
            "                                                                 \n",
            "=================================================================\n",
            "Total params: 2,260,546\n",
            "Trainable params: 2,562\n",
            "Non-trainable params: 2,257,984\n",
            "_________________________________________________________________\n"
          ]
        }
      ]
    },
    {
      "cell_type": "code",
      "source": [
        "model.compile(loss=\"categorical_crossentropy\", \n",
        "              optimizer=optim.RMSprop(lr=1e-4, momentum=0.9),\n",
        "              metrics=['accuracy'])"
      ],
      "metadata": {
        "id": "uwPlYUmoG9Ce",
        "colab": {
          "base_uri": "https://localhost:8080/"
        },
        "outputId": "dd0eb486-0908-40f5-9afe-2ec8655d97a8"
      },
      "execution_count": 9,
      "outputs": [
        {
          "output_type": "stream",
          "name": "stderr",
          "text": [
            "/usr/local/lib/python3.7/dist-packages/keras/optimizer_v2/rmsprop.py:130: UserWarning: The `lr` argument is deprecated, use `learning_rate` instead.\n",
            "  super(RMSprop, self).__init__(name, **kwargs)\n"
          ]
        }
      ]
    },
    {
      "cell_type": "code",
      "source": [
        "steps_per_epoch = train_set.samples // train_set.batch_size\n",
        "validation_steps = val_set.samples // val_set.batch_size\n",
        "\n",
        "reduce_lr = callbacks.ReduceLROnPlateau(monitor='val_accuracy', min_lr=1e-8) \n",
        "early_stop_cb = callbacks.EarlyStopping(patience=15,monitor='val_accuracy', restore_best_weights= True)\n",
        "callbacks = [reduce_lr, early_stop_cb]\n",
        "history = model.fit(train_set,\n",
        "                    epochs=25, steps_per_epoch=steps_per_epoch,\n",
        "                    validation_data=val_set,\n",
        "                    callbacks=callbacks,\n",
        "                    validation_steps=validation_steps).history"
      ],
      "metadata": {
        "colab": {
          "base_uri": "https://localhost:8080/"
        },
        "id": "8UkTQ_fWHGLM",
        "outputId": "a5c3cc35-7590-4d40-da26-6623cc29ac30"
      },
      "execution_count": 10,
      "outputs": [
        {
          "output_type": "stream",
          "name": "stdout",
          "text": [
            "Epoch 1/25\n",
            "1/1 [==============================] - 65s 65s/step - loss: 1.7235 - accuracy: 0.4688 - val_loss: 1.6106 - val_accuracy: 0.4062 - lr: 1.0000e-04\n",
            "Epoch 2/25\n",
            "1/1 [==============================] - 24s 24s/step - loss: 1.3480 - accuracy: 0.6250 - val_loss: 1.0211 - val_accuracy: 0.4688 - lr: 1.0000e-04\n",
            "Epoch 3/25\n",
            "1/1 [==============================] - 24s 24s/step - loss: 0.9646 - accuracy: 0.5000 - val_loss: 0.9057 - val_accuracy: 0.5312 - lr: 1.0000e-04\n",
            "Epoch 4/25\n",
            "1/1 [==============================] - 27s 27s/step - loss: 1.1836 - accuracy: 0.3438 - val_loss: 0.8580 - val_accuracy: 0.4688 - lr: 1.0000e-04\n",
            "Epoch 5/25\n",
            "1/1 [==============================] - 24s 24s/step - loss: 0.7898 - accuracy: 0.5000 - val_loss: 0.8759 - val_accuracy: 0.5000 - lr: 1.0000e-04\n",
            "Epoch 6/25\n",
            "1/1 [==============================] - 24s 24s/step - loss: 0.6776 - accuracy: 0.6250 - val_loss: 1.0482 - val_accuracy: 0.4375 - lr: 1.0000e-04\n",
            "Epoch 7/25\n",
            "1/1 [==============================] - 24s 24s/step - loss: 1.1079 - accuracy: 0.3750 - val_loss: 1.0711 - val_accuracy: 0.4688 - lr: 1.0000e-04\n",
            "Epoch 8/25\n",
            "1/1 [==============================] - 27s 27s/step - loss: 1.3222 - accuracy: 0.4062 - val_loss: 1.0768 - val_accuracy: 0.5625 - lr: 1.0000e-04\n",
            "Epoch 9/25\n",
            "1/1 [==============================] - 24s 24s/step - loss: 1.5833 - accuracy: 0.3750 - val_loss: 1.1996 - val_accuracy: 0.5312 - lr: 1.0000e-04\n",
            "Epoch 10/25\n",
            "1/1 [==============================] - 28s 28s/step - loss: 1.4298 - accuracy: 0.4688 - val_loss: 1.1844 - val_accuracy: 0.5625 - lr: 1.0000e-04\n",
            "Epoch 11/25\n",
            "1/1 [==============================] - 24s 24s/step - loss: 1.3218 - accuracy: 0.5000 - val_loss: 1.3649 - val_accuracy: 0.5000 - lr: 1.0000e-04\n",
            "Epoch 12/25\n",
            "1/1 [==============================] - 24s 24s/step - loss: 1.1112 - accuracy: 0.5000 - val_loss: 1.2611 - val_accuracy: 0.5000 - lr: 1.0000e-04\n",
            "Epoch 13/25\n",
            "1/1 [==============================] - 26s 26s/step - loss: 1.3122 - accuracy: 0.4688 - val_loss: 1.0464 - val_accuracy: 0.5312 - lr: 1.0000e-04\n",
            "Epoch 14/25\n",
            "1/1 [==============================] - 27s 27s/step - loss: 0.8859 - accuracy: 0.5625 - val_loss: 1.0372 - val_accuracy: 0.5312 - lr: 1.0000e-04\n",
            "Epoch 15/25\n",
            "1/1 [==============================] - 24s 24s/step - loss: 0.7218 - accuracy: 0.7500 - val_loss: 1.1066 - val_accuracy: 0.5000 - lr: 1.0000e-04\n",
            "Epoch 16/25\n",
            "1/1 [==============================] - 27s 27s/step - loss: 0.9564 - accuracy: 0.4688 - val_loss: 0.8820 - val_accuracy: 0.5625 - lr: 1.0000e-04\n",
            "Epoch 17/25\n",
            "1/1 [==============================] - 24s 24s/step - loss: 0.4089 - accuracy: 0.8750 - val_loss: 0.8199 - val_accuracy: 0.5312 - lr: 1.0000e-04\n",
            "Epoch 18/25\n",
            "1/1 [==============================] - 24s 24s/step - loss: 0.9459 - accuracy: 0.2500 - val_loss: 0.7548 - val_accuracy: 0.5312 - lr: 1.0000e-04\n",
            "Epoch 19/25\n",
            "1/1 [==============================] - 24s 24s/step - loss: 0.7890 - accuracy: 0.6250 - val_loss: 0.8040 - val_accuracy: 0.4688 - lr: 1.0000e-05\n",
            "Epoch 20/25\n",
            "1/1 [==============================] - 26s 26s/step - loss: 0.7872 - accuracy: 0.3750 - val_loss: 0.6985 - val_accuracy: 0.6250 - lr: 1.0000e-05\n",
            "Epoch 21/25\n",
            "1/1 [==============================] - 27s 27s/step - loss: 0.7808 - accuracy: 0.4375 - val_loss: 0.6962 - val_accuracy: 0.5312 - lr: 1.0000e-05\n",
            "Epoch 22/25\n",
            "1/1 [==============================] - 27s 27s/step - loss: 0.8009 - accuracy: 0.5625 - val_loss: 0.7814 - val_accuracy: 0.5625 - lr: 1.0000e-05\n",
            "Epoch 23/25\n",
            "1/1 [==============================] - 24s 24s/step - loss: 0.8847 - accuracy: 0.5000 - val_loss: 0.8269 - val_accuracy: 0.4688 - lr: 1.0000e-05\n",
            "Epoch 24/25\n",
            "1/1 [==============================] - 24s 24s/step - loss: 0.6176 - accuracy: 0.7500 - val_loss: 0.7108 - val_accuracy: 0.5625 - lr: 1.0000e-05\n",
            "Epoch 25/25\n",
            "1/1 [==============================] - 27s 27s/step - loss: 0.8520 - accuracy: 0.5000 - val_loss: 0.9433 - val_accuracy: 0.3750 - lr: 1.0000e-05\n"
          ]
        }
      ]
    },
    {
      "cell_type": "code",
      "source": [
        "plt.figure()\n",
        "plt.ylabel(\"Loss (training and validation)\")\n",
        "plt.xlabel(\"Training Steps\")\n",
        "plt.ylim([0,2])\n",
        "plt.plot(history[\"loss\"])\n",
        "plt.plot(history[\"val_loss\"])\n",
        "\n",
        "plt.figure()\n",
        "plt.ylabel(\"Accuracy (training and validation)\")\n",
        "plt.xlabel(\"Training Steps\")\n",
        "plt.ylim([0,1])\n",
        "plt.plot(history[\"accuracy\"])\n",
        "plt.plot(history[\"val_accuracy\"])"
      ],
      "metadata": {
        "id": "2iT876yFHdIL",
        "colab": {
          "base_uri": "https://localhost:8080/",
          "height": 567
        },
        "outputId": "88f93e8f-5047-4323-ebef-085f535cd921"
      },
      "execution_count": 11,
      "outputs": [
        {
          "output_type": "execute_result",
          "data": {
            "text/plain": [
              "[<matplotlib.lines.Line2D at 0x7f3849f50650>]"
            ]
          },
          "metadata": {},
          "execution_count": 11
        },
        {
          "output_type": "display_data",
          "data": {
            "text/plain": [
              "<Figure size 432x288 with 1 Axes>"
            ],
            "image/png": "[encoded data removed]"
          },
          "metadata": {
            "needs_background": "light"
          }
        },
        {
          "output_type": "display_data",
          "data": {
            "text/plain": [
              "<Figure size 432x288 with 1 Axes>"
            ],
            "image/png": "[encoded data removed]"
          },
          "metadata": {
            "needs_background": "light"
          }
        }
      ]
    },
    {
      "cell_type": "code",
      "source": [
        "def evaluate_model(model, test_set):\n",
        "    X, y = test_set.next()\n",
        "    classes_ind = test_set.class_indices\n",
        "    labels = list(classes_ind.keys())\n",
        "    print('Loss of the model is - ', model.evaluate(X, y)[0])\n",
        "    print('Accuracy of the model is - ', model.evaluate(X, y)[1]*100, '%')\n",
        "    predict = model.predict(X)\n",
        "    predict = np.argmax(predict, axis=1)\n",
        "    predict = predict.reshape(1, -1)[0]\n",
        "    y_label = np.argmax(y, axis=1)\n",
        "    print(classification_report(y_label, predict, target_names =labels))\n",
        "\n",
        "    conf_matrix = confusion_matrix(y_label, predict)\n",
        "    ConfusionMatrixDisplay(conf_matrix, display_labels=np.array(labels))\n",
        "    plt.show()"
      ],
      "metadata": {
        "id": "Qhuu7tEGCf77"
      },
      "execution_count": 12,
      "outputs": []
    },
    {
      "cell_type": "code",
      "source": [
        "evaluate_model(model, test_set)"
      ],
      "metadata": {
        "id": "Bxb87cRRbavd",
        "colab": {
          "base_uri": "https://localhost:8080/"
        },
        "outputId": "d4ccc50a-dc84-4e90-cee4-2410d7134f33"
      },
      "execution_count": 13,
      "outputs": [
        {
          "output_type": "stream",
          "name": "stdout",
          "text": [
            "2/2 [==============================] - 4s 1s/step - loss: 0.6792 - accuracy: 0.6406\n",
            "Loss of the model is -  0.6791657209396362\n",
            "2/2 [==============================] - 2s 863ms/step - loss: 0.6792 - accuracy: 0.6406\n",
            "Accuracy of the model is -  64.0625 %\n",
            "                 precision    recall  f1-score   support\n",
            "\n",
            "  healthy teeth       0.86      0.63      0.73        49\n",
            "unhealthy teeth       0.36      0.67      0.47        15\n",
            "\n",
            "       accuracy                           0.64        64\n",
            "      macro avg       0.61      0.65      0.60        64\n",
            "   weighted avg       0.74      0.64      0.67        64\n",
            "\n"
          ]
        }
      ]
    },
    {
      "cell_type": "code",
      "source": [
        "converter = tf.lite.TFLiteConverter.from_keras_model(model)\n",
        "tflite_model = converter.convert()\n",
        "\n",
        "with open(\"model.tflite\", 'wb') as f:\n",
        "  f.write(tflite_model)"
      ],
      "metadata": {
        "id": "Abnk7zhcXdDl",
        "colab": {
          "base_uri": "https://localhost:8080/"
        },
        "outputId": "793528c8-af74-46ff-9bd0-2573e54d161b"
      },
      "execution_count": 14,
      "outputs": [
        {
          "output_type": "stream",
          "name": "stdout",
          "text": [
            "INFO:tensorflow:Assets written to: /tmp/tmpdktu495b/assets\n"
          ]
        },
        {
          "output_type": "stream",
          "name": "stderr",
          "text": [
            "INFO:tensorflow:Assets written to: /tmp/tmpdktu495b/assets\n",
            "WARNING:absl:Buffer deduplication procedure will be skipped when flatbuffer library is not properly loaded\n"
          ]
        }
      ]
    },
    {
      "cell_type": "code",
      "source": [
        ""
      ],
      "metadata": {
        "id": "6TH5SVMFlDpZ"
      },
      "execution_count": null,
      "outputs": []
    }
  ]
}